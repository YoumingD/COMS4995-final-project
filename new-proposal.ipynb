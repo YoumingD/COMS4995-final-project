{
 "cells": [
  {
   "cell_type": "markdown",
   "id": "77989dbf",
   "metadata": {},
   "source": [
    "## Project Proposal"
   ]
  },
  {
   "cell_type": "markdown",
   "id": "43597813",
   "metadata": {},
   "source": [
    "Title: Dog classification"
   ]
  },
  {
   "cell_type": "markdown",
   "id": "9b1abdbe",
   "metadata": {},
   "source": [
    "Participate: Youming Ding yd2611"
   ]
  },
  {
   "cell_type": "markdown",
   "id": "0db7f070",
   "metadata": {},
   "source": [
    "Description: the objective of this project is to re-train different pre-trained models with different output layer structures or learning rates to find a best setting with higher accuracy on dog classification on Stanford Dog Dataset. Considering the current existing paper and studies, the expected accuracy of this project should be higher than 80% as least."
   ]
  },
  {
   "cell_type": "markdown",
   "id": "1d5279b6",
   "metadata": {},
   "source": [
    "Plan: I plan to use the Inception model, the Mobilenet model, the resnet50 model, and the VGG16 model for training. I would tried different learning rates and different architecture of the output layers to compare the performance of the trained model on the prediction accuracy and loss. The dataset I used would be Stanford Dog Dataset."
   ]
  }
 ],
 "metadata": {
  "kernelspec": {
   "display_name": "Python 3 (ipykernel)",
   "language": "python",
   "name": "python3"
  },
  "language_info": {
   "codemirror_mode": {
    "name": "ipython",
    "version": 3
   },
   "file_extension": ".py",
   "mimetype": "text/x-python",
   "name": "python",
   "nbconvert_exporter": "python",
   "pygments_lexer": "ipython3",
   "version": "3.9.7"
  }
 },
 "nbformat": 4,
 "nbformat_minor": 5
}
